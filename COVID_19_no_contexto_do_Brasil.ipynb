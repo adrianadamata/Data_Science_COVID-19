{
  "nbformat": 4,
  "nbformat_minor": 0,
  "metadata": {
    "colab": {
      "name": "COVID-19 no contexto do Brasil.ipynb",
      "provenance": [],
      "collapsed_sections": [],
      "include_colab_link": true
    },
    "kernelspec": {
      "name": "python3",
      "display_name": "Python 3"
    }
  },
  "cells": [
    {
      "cell_type": "markdown",
      "metadata": {
        "id": "view-in-github",
        "colab_type": "text"
      },
      "source": [
        "<a href=\"https://colab.research.google.com/github/adrianadamata/Data_Science_COVID-19/blob/master/COVID_19_no_contexto_do_Brasil.ipynb\" target=\"_parent\"><img src=\"https://colab.research.google.com/assets/colab-badge.svg\" alt=\"Open In Colab\"/></a>"
      ]
    },
    {
      "cell_type": "markdown",
      "metadata": {
        "id": "-eFQZydM9O9J",
        "colab_type": "text"
      },
      "source": [
        "<img alt=\"Colaboratory logo\" width=\"15%\" src=\"https://raw.githubusercontent.com/carlosfab/escola-data-science/master/img/novo_logo_bg_claro.png\">\n",
        "\n",
        "#### **Data Science na Prática 2.0**\n",
        "*by [sigmoidal.ai](https://sigmoidal.ai)*  \n",
        "\n",
        "---\n",
        "  "
      ]
    },
    {
      "cell_type": "markdown",
      "metadata": {
        "id": "kLI0gJtzDGuQ",
        "colab_type": "text"
      },
      "source": [
        "# COVID-19 no Brasil\n",
        "\n",
        "COVID-19 é uma doença causada pelo coronavírus SARS-COV2. Este novo vírus foi identificado na China, após pacientes apresentarem quadro de pneumonia com causa desconhecida. Esses pacientes foram  vinculados a um mercado atacadista de frutos do mar e animais úmidos na China. \n",
        "\n",
        "Inicialmente, o grande número de pessoas infectadas na cidade de Wuhan, China, alarmou o mundo devido a seu alto potencial de contágio. Isso ocorre pois pessoas assintomáticas também transmitem o vírus. A doença pode evoluir para quadros severos de pneumonia e causar mortes, principalmente em indivíduos mais vulneráveis ao vírus (estudos a respeito das comorbidades que mais representam risco ao COVID-19 ainda estão em fase de andamento). \n",
        "\n",
        "Em Março, a Organização Mundial de Saúde reconheceu o COVID-19 como pandemia e há uma verdadeira confusão a respeito de tratamentos em potencial. \n",
        "\n",
        "Atualmente, em Julho de 2020 alguns estados e municípios brasileiros adotaram um tratamento como tentativa de evitar mortes. O tratamento foi adotado após pesquisas científicas in vitro indicarem a ação de medicamentos no combate ao vírus. Fato é que não há tempo hábil para que essas pesquisas sejam validadas e aqui há um conflito do que se pode ou não fazer até que tenhamos resultados comprovados. Em todo o mundo, estudos têm sido realizados, porém os resultados ainda são inconclusivos. \n",
        "\n",
        "O que posso relatar é minha experiência pessoal. Meu pai possui comorbidades relacionadas ao risco de COVID-19 como hipertensão e diabetes. No quinto dia levei-o até a Unidade de Pronto-Atendimento e foi prescrito tratamento com Ivermectina, Azitromicina e Predinisona. Um médico da família indicou que eu e minha mãe tomássemos a Ivermectina. Por informações de médicos, fui orientada que o quadro clínico deve ir melhorando de forma contínua. Em caso de piora do quadro clínico, o paciente deve ser levado novamente ao médico quantas vezes forem necessárias. Precisei levá-lo novamente no décimo dia, quando foi identificado princípio de desidratação, com tratamento simples com soro. Meu pai se recuperou e o teste de COVID-19 deu positivo, eu e minha mãe não apresentamos sintomas. \n",
        "\n",
        "<center><img alt=\"Colaboratory logo\" width=\"50%\" src=\"https://raw.githubusercontent.com/adrianadamata/Data_Science_COVID-19/master/covid.jpg\"></center>\n",
        "\n",
        "\n",
        "\n",
        "Com o objetivo de compreender o contexto do COVID-19 no Brasil, foi realizada a análise de dados a seguir."
      ]
    },
    {
      "cell_type": "markdown",
      "metadata": {
        "id": "0zxQHhIUDF_2",
        "colab_type": "text"
      },
      "source": [
        "## Obtenção dos Dados\n",
        "\n",
        "Os dados utilizados neste projeto são referentes ao *dataset* da *Our World in Data* disponível no [github](https://github.com/owid/covid-19-data/tree/master/public/data). Tais dados são atualizados diariamente, e possui a descrição das fontes dos dados em cada País. Os créditos deste *dataset* são dos autores responsáveis pela elaboração, como segue: Diana Beltekian, Daniel Gavrilov, Charlie Giattino, Joe Hasell, Bobbie Macdonald, Edouard Mathieu, Esteban Ortiz-Ospina, Hannah Ritchie e Max Roser. \n",
        "\n",
        "No Brasil, os dados foram extraídos do Ministério da Saúde, que inclui a quantidade de testes de PCR realizados para COVID-19. Conforme descrição mais recente, esse número refere-se aos testes realizados em laboratórios públicos.\n",
        "\n",
        "Sabe-se que os protocolos nas unidades de saúde têm restringido o teste a apenas pessoas idosas e com comorbidades, além de profissionais de saúde devidamente registrados. Possivelmente, tal fato decorre de quantidade de testes ineficiente para todos que manifestam sintomas. Desta forma, as unidades tratam o paciente como COVID-19, embora não realize o teste em todos. \n",
        "\n",
        "### Importando os dados do COVID-19\n",
        "\n",
        "* Os dados foram importados em formato ***.csv***, conforme código abaixo:"
      ]
    },
    {
      "cell_type": "code",
      "metadata": {
        "id": "lOtEJxe0DMEb",
        "colab_type": "code",
        "colab": {
          "base_uri": "https://localhost:8080/",
          "height": 309
        },
        "outputId": "5d6cd3c1-7b19-4e74-e036-5ce76e533b33"
      },
      "source": [
        "# importar as bibliotecas necessárias\n",
        "import pandas as pd\n",
        "\n",
        "\n",
        "\n",
        "# importar o dataset COVID-19 para um DataaFrame\n",
        "df = pd.read_csv(\"https://raw.githubusercontent.com/owid/covid-19-data/master/public/data/owid-covid-data.csv\")\n",
        "df.head()"
      ],
      "execution_count": null,
      "outputs": [
        {
          "output_type": "execute_result",
          "data": {
            "text/html": [
              "<div>\n",
              "<style scoped>\n",
              "    .dataframe tbody tr th:only-of-type {\n",
              "        vertical-align: middle;\n",
              "    }\n",
              "\n",
              "    .dataframe tbody tr th {\n",
              "        vertical-align: top;\n",
              "    }\n",
              "\n",
              "    .dataframe thead th {\n",
              "        text-align: right;\n",
              "    }\n",
              "</style>\n",
              "<table border=\"1\" class=\"dataframe\">\n",
              "  <thead>\n",
              "    <tr style=\"text-align: right;\">\n",
              "      <th></th>\n",
              "      <th>iso_code</th>\n",
              "      <th>continent</th>\n",
              "      <th>location</th>\n",
              "      <th>date</th>\n",
              "      <th>total_cases</th>\n",
              "      <th>new_cases</th>\n",
              "      <th>total_deaths</th>\n",
              "      <th>new_deaths</th>\n",
              "      <th>total_cases_per_million</th>\n",
              "      <th>new_cases_per_million</th>\n",
              "      <th>total_deaths_per_million</th>\n",
              "      <th>new_deaths_per_million</th>\n",
              "      <th>total_tests</th>\n",
              "      <th>new_tests</th>\n",
              "      <th>total_tests_per_thousand</th>\n",
              "      <th>new_tests_per_thousand</th>\n",
              "      <th>new_tests_smoothed</th>\n",
              "      <th>new_tests_smoothed_per_thousand</th>\n",
              "      <th>tests_units</th>\n",
              "      <th>stringency_index</th>\n",
              "      <th>population</th>\n",
              "      <th>population_density</th>\n",
              "      <th>median_age</th>\n",
              "      <th>aged_65_older</th>\n",
              "      <th>aged_70_older</th>\n",
              "      <th>gdp_per_capita</th>\n",
              "      <th>extreme_poverty</th>\n",
              "      <th>cvd_death_rate</th>\n",
              "      <th>diabetes_prevalence</th>\n",
              "      <th>female_smokers</th>\n",
              "      <th>male_smokers</th>\n",
              "      <th>handwashing_facilities</th>\n",
              "      <th>hospital_beds_per_thousand</th>\n",
              "      <th>life_expectancy</th>\n",
              "    </tr>\n",
              "  </thead>\n",
              "  <tbody>\n",
              "    <tr>\n",
              "      <th>0</th>\n",
              "      <td>AFG</td>\n",
              "      <td>Asia</td>\n",
              "      <td>Afghanistan</td>\n",
              "      <td>2019-12-31</td>\n",
              "      <td>0.0</td>\n",
              "      <td>0.0</td>\n",
              "      <td>0.0</td>\n",
              "      <td>0.0</td>\n",
              "      <td>0.0</td>\n",
              "      <td>0.0</td>\n",
              "      <td>0.0</td>\n",
              "      <td>0.0</td>\n",
              "      <td>NaN</td>\n",
              "      <td>NaN</td>\n",
              "      <td>NaN</td>\n",
              "      <td>NaN</td>\n",
              "      <td>NaN</td>\n",
              "      <td>NaN</td>\n",
              "      <td>NaN</td>\n",
              "      <td>NaN</td>\n",
              "      <td>38928341.0</td>\n",
              "      <td>54.422</td>\n",
              "      <td>18.6</td>\n",
              "      <td>2.581</td>\n",
              "      <td>1.337</td>\n",
              "      <td>1803.987</td>\n",
              "      <td>NaN</td>\n",
              "      <td>597.029</td>\n",
              "      <td>9.59</td>\n",
              "      <td>NaN</td>\n",
              "      <td>NaN</td>\n",
              "      <td>37.746</td>\n",
              "      <td>0.5</td>\n",
              "      <td>64.83</td>\n",
              "    </tr>\n",
              "    <tr>\n",
              "      <th>1</th>\n",
              "      <td>AFG</td>\n",
              "      <td>Asia</td>\n",
              "      <td>Afghanistan</td>\n",
              "      <td>2020-01-01</td>\n",
              "      <td>0.0</td>\n",
              "      <td>0.0</td>\n",
              "      <td>0.0</td>\n",
              "      <td>0.0</td>\n",
              "      <td>0.0</td>\n",
              "      <td>0.0</td>\n",
              "      <td>0.0</td>\n",
              "      <td>0.0</td>\n",
              "      <td>NaN</td>\n",
              "      <td>NaN</td>\n",
              "      <td>NaN</td>\n",
              "      <td>NaN</td>\n",
              "      <td>NaN</td>\n",
              "      <td>NaN</td>\n",
              "      <td>NaN</td>\n",
              "      <td>0.0</td>\n",
              "      <td>38928341.0</td>\n",
              "      <td>54.422</td>\n",
              "      <td>18.6</td>\n",
              "      <td>2.581</td>\n",
              "      <td>1.337</td>\n",
              "      <td>1803.987</td>\n",
              "      <td>NaN</td>\n",
              "      <td>597.029</td>\n",
              "      <td>9.59</td>\n",
              "      <td>NaN</td>\n",
              "      <td>NaN</td>\n",
              "      <td>37.746</td>\n",
              "      <td>0.5</td>\n",
              "      <td>64.83</td>\n",
              "    </tr>\n",
              "    <tr>\n",
              "      <th>2</th>\n",
              "      <td>AFG</td>\n",
              "      <td>Asia</td>\n",
              "      <td>Afghanistan</td>\n",
              "      <td>2020-01-02</td>\n",
              "      <td>0.0</td>\n",
              "      <td>0.0</td>\n",
              "      <td>0.0</td>\n",
              "      <td>0.0</td>\n",
              "      <td>0.0</td>\n",
              "      <td>0.0</td>\n",
              "      <td>0.0</td>\n",
              "      <td>0.0</td>\n",
              "      <td>NaN</td>\n",
              "      <td>NaN</td>\n",
              "      <td>NaN</td>\n",
              "      <td>NaN</td>\n",
              "      <td>NaN</td>\n",
              "      <td>NaN</td>\n",
              "      <td>NaN</td>\n",
              "      <td>0.0</td>\n",
              "      <td>38928341.0</td>\n",
              "      <td>54.422</td>\n",
              "      <td>18.6</td>\n",
              "      <td>2.581</td>\n",
              "      <td>1.337</td>\n",
              "      <td>1803.987</td>\n",
              "      <td>NaN</td>\n",
              "      <td>597.029</td>\n",
              "      <td>9.59</td>\n",
              "      <td>NaN</td>\n",
              "      <td>NaN</td>\n",
              "      <td>37.746</td>\n",
              "      <td>0.5</td>\n",
              "      <td>64.83</td>\n",
              "    </tr>\n",
              "    <tr>\n",
              "      <th>3</th>\n",
              "      <td>AFG</td>\n",
              "      <td>Asia</td>\n",
              "      <td>Afghanistan</td>\n",
              "      <td>2020-01-03</td>\n",
              "      <td>0.0</td>\n",
              "      <td>0.0</td>\n",
              "      <td>0.0</td>\n",
              "      <td>0.0</td>\n",
              "      <td>0.0</td>\n",
              "      <td>0.0</td>\n",
              "      <td>0.0</td>\n",
              "      <td>0.0</td>\n",
              "      <td>NaN</td>\n",
              "      <td>NaN</td>\n",
              "      <td>NaN</td>\n",
              "      <td>NaN</td>\n",
              "      <td>NaN</td>\n",
              "      <td>NaN</td>\n",
              "      <td>NaN</td>\n",
              "      <td>0.0</td>\n",
              "      <td>38928341.0</td>\n",
              "      <td>54.422</td>\n",
              "      <td>18.6</td>\n",
              "      <td>2.581</td>\n",
              "      <td>1.337</td>\n",
              "      <td>1803.987</td>\n",
              "      <td>NaN</td>\n",
              "      <td>597.029</td>\n",
              "      <td>9.59</td>\n",
              "      <td>NaN</td>\n",
              "      <td>NaN</td>\n",
              "      <td>37.746</td>\n",
              "      <td>0.5</td>\n",
              "      <td>64.83</td>\n",
              "    </tr>\n",
              "    <tr>\n",
              "      <th>4</th>\n",
              "      <td>AFG</td>\n",
              "      <td>Asia</td>\n",
              "      <td>Afghanistan</td>\n",
              "      <td>2020-01-04</td>\n",
              "      <td>0.0</td>\n",
              "      <td>0.0</td>\n",
              "      <td>0.0</td>\n",
              "      <td>0.0</td>\n",
              "      <td>0.0</td>\n",
              "      <td>0.0</td>\n",
              "      <td>0.0</td>\n",
              "      <td>0.0</td>\n",
              "      <td>NaN</td>\n",
              "      <td>NaN</td>\n",
              "      <td>NaN</td>\n",
              "      <td>NaN</td>\n",
              "      <td>NaN</td>\n",
              "      <td>NaN</td>\n",
              "      <td>NaN</td>\n",
              "      <td>0.0</td>\n",
              "      <td>38928341.0</td>\n",
              "      <td>54.422</td>\n",
              "      <td>18.6</td>\n",
              "      <td>2.581</td>\n",
              "      <td>1.337</td>\n",
              "      <td>1803.987</td>\n",
              "      <td>NaN</td>\n",
              "      <td>597.029</td>\n",
              "      <td>9.59</td>\n",
              "      <td>NaN</td>\n",
              "      <td>NaN</td>\n",
              "      <td>37.746</td>\n",
              "      <td>0.5</td>\n",
              "      <td>64.83</td>\n",
              "    </tr>\n",
              "  </tbody>\n",
              "</table>\n",
              "</div>"
            ],
            "text/plain": [
              "  iso_code continent  ... hospital_beds_per_thousand life_expectancy\n",
              "0      AFG      Asia  ...                        0.5           64.83\n",
              "1      AFG      Asia  ...                        0.5           64.83\n",
              "2      AFG      Asia  ...                        0.5           64.83\n",
              "3      AFG      Asia  ...                        0.5           64.83\n",
              "4      AFG      Asia  ...                        0.5           64.83\n",
              "\n",
              "[5 rows x 34 columns]"
            ]
          },
          "metadata": {
            "tags": []
          },
          "execution_count": 1
        }
      ]
    },
    {
      "cell_type": "code",
      "metadata": {
        "id": "tiThQl7x1siv",
        "colab_type": "code",
        "cellView": "both",
        "colab": {
          "base_uri": "https://localhost:8080/",
          "height": 170
        },
        "outputId": "94ac3c87-b513-4e80-c852-4df3b1030fb5"
      },
      "source": [
        "#@title\n",
        "df.new_tests_smoothed.describe()"
      ],
      "execution_count": null,
      "outputs": [
        {
          "output_type": "execute_result",
          "data": {
            "text/plain": [
              "count      9415.000000\n",
              "mean      13980.052045\n",
              "std       46688.629565\n",
              "min           0.000000\n",
              "25%         906.500000\n",
              "50%        3013.000000\n",
              "75%        8866.000000\n",
              "max      657904.000000\n",
              "Name: new_tests_smoothed, dtype: float64"
            ]
          },
          "metadata": {
            "tags": []
          },
          "execution_count": 2
        }
      ]
    },
    {
      "cell_type": "code",
      "metadata": {
        "id": "SsSewAbi93fb",
        "colab_type": "code",
        "colab": {
          "base_uri": "https://localhost:8080/",
          "height": 170
        },
        "outputId": "422b9ea3-d86a-4285-a637-b923fb663d28"
      },
      "source": [
        "df.new_tests.describe()"
      ],
      "execution_count": null,
      "outputs": [
        {
          "output_type": "execute_result",
          "data": {
            "text/plain": [
              "count      8305.000000\n",
              "mean      14985.900060\n",
              "std       51334.521158\n",
              "min       -3743.000000\n",
              "25%         817.000000\n",
              "50%        2724.000000\n",
              "75%        8919.000000\n",
              "max      721054.000000\n",
              "Name: new_tests, dtype: float64"
            ]
          },
          "metadata": {
            "tags": []
          },
          "execution_count": 3
        }
      ]
    },
    {
      "cell_type": "markdown",
      "metadata": {
        "id": "zv0yOlnJCv-y",
        "colab_type": "text"
      },
      "source": [
        "### Dicionário de Variáveis\n",
        "`iso_code`- 3 letras representando o País (conforme o código \tISO 3166-1 alpha-3);\n",
        "\n",
        "`continent`- continente referente à localização geográfica;\n",
        "\n",
        "`location` - localização geográfica;\n",
        "\n",
        "`date` - data da observação;\n",
        "\n",
        "`total_cases` - total de casos confirmados de COVID-19;\n",
        "\n",
        "`new_cases` - novos casos confirmados de COVID-19;\n",
        "\n",
        "`total_deaths` - total de mortes atribuídas ao COVID-19;\n",
        "\n",
        "`new_deaths` - novas mortes atribuídas ao COVID-19;\n",
        "\n",
        "`total_cases_per_million` - total de casos confirmados de COVID-19 por $1.000.000$ de pessoas;\n",
        "\n",
        "`new_cases_per_million\t` - novos casos confirmados de COVID-19 por $1.000.000$ de pessoas;\n",
        "\n",
        "`total_deaths_per_million` - total de mortes atribuídas ao COVID-19 por $1.000.000$ de pessoas;\n",
        "\n",
        "`new_deaths_per_million` - novas mortes atribuídas ao COVID-19 por $1.000.000$ de pessoas;\n",
        "\n",
        "`total_tests` - total de testes para COVID-19;\n",
        "\n",
        "`new_tests` - novos testes para COVID-19;\n",
        "\n",
        "`total_tests_per_thousand` -  total de testes de COVID-19 por $1.000$ pessoas;\n",
        "\n",
        "`new_tests_per_thousand` - novos testes de COVID-19 por $1.000$ pessoas;\n",
        "\n",
        "`new_tests_smoothed` - dados suavizados de novos testes para COVID-19 (quando necessário em países que não relatam diariamente a quantidade de testes realizados);\n",
        "\n",
        "`new_tests_smoothed_per_thousand` - dados suavizados de novos testes de COVID-19 por $1.000$ pessoas;\n",
        "\n",
        "`tests_units` - unidades utilizadas para relatar os dados de teste, em determinado local;\n",
        "\n",
        "`stringency_index` - Índice de Estresse da Resposta do Governo. Valor dimensionado entre 0  e 100, que abrange 9 indicadores para contenção como fechamento de escolas e proibição de viagens;\n",
        "\n",
        "`population` - população em 2020;\n",
        "\n",
        "`population_density` - número de pessoas por ${Km}^²$, no ano mais recente disponível;\n",
        "\n",
        "`median_age` - idade média da população segundo projeção da ONU para 2020;\n",
        "\n",
        "`aged_65_older` - Proporção da população com 65 anos ou mais, ano mais recente disponível;\n",
        "\n",
        "`aged_70_older` - Percentagem da população com 70 anos ou mais em 2015;\n",
        "\n",
        "`gdp_per_capita` - Produto interno bruto por pessoa; Equivalente ao poder de compra (dólares internacionais constantes de 2011) no último ano disponível;\n",
        "\n",
        "`extreme_poverty` - Percentagem da população que vive em extrema pobreza, último ano disponível desde 2010;\n",
        "\n",
        "`cvd_death_rate` - Taxa de mortalidade por doenças cardiovasculares em 2017;\n",
        "\n",
        "`diabetes_prevalence` - Prevalência de diabetes (% da população entre 20 e 79 anos) em 2017;\n",
        "\n",
        "`female_smokers` - Percentagem de mulheres que fumam, no último ano disponível;\n",
        "\n",
        "`male_smokers` - Proporção de homens que fumam, no último ano disponível;\n",
        "\n",
        "`handwashing_facilities` - Percentagem da população com instalações básicas de lavagem das mãos nas instalações, último ano disponível;\n",
        "\n",
        "`hospital_beds_per_thousand` - Leitos de hospital por $1.000$ pessoas, último ano disponível desde 2010;\n",
        "\n",
        "`life_expectancy` - Expectativa de vida no nascimento em 2019;"
      ]
    },
    {
      "cell_type": "code",
      "metadata": {
        "id": "Lbreqqe4Yg7X",
        "colab_type": "code",
        "colab": {
          "base_uri": "https://localhost:8080/",
          "height": 221
        },
        "outputId": "6f0bab71-6cd2-4dca-9fe9-0c8867c98c88"
      },
      "source": [
        "df.columns"
      ],
      "execution_count": null,
      "outputs": [
        {
          "output_type": "execute_result",
          "data": {
            "text/plain": [
              "Index(['iso_code', 'continent', 'location', 'date', 'total_cases', 'new_cases',\n",
              "       'total_deaths', 'new_deaths', 'total_cases_per_million',\n",
              "       'new_cases_per_million', 'total_deaths_per_million',\n",
              "       'new_deaths_per_million', 'total_tests', 'new_tests',\n",
              "       'total_tests_per_thousand', 'new_tests_per_thousand',\n",
              "       'new_tests_smoothed', 'new_tests_smoothed_per_thousand', 'tests_units',\n",
              "       'stringency_index', 'population', 'population_density', 'median_age',\n",
              "       'aged_65_older', 'aged_70_older', 'gdp_per_capita', 'extreme_poverty',\n",
              "       'cvd_death_rate', 'diabetes_prevalence', 'female_smokers',\n",
              "       'male_smokers', 'handwashing_facilities', 'hospital_beds_per_thousand',\n",
              "       'life_expectancy'],\n",
              "      dtype='object')"
            ]
          },
          "metadata": {
            "tags": []
          },
          "execution_count": 4
        }
      ]
    },
    {
      "cell_type": "markdown",
      "metadata": {
        "id": "qb5By2nIMS6m",
        "colab_type": "text"
      },
      "source": [
        "## Análise Exploratória dos Dados\n",
        "\n",
        "*Crie uma breve contextualização sobre o que será feito na fase de Análise Exploratória de Dados...*\n",
        "\n",
        "...\n",
        "\n",
        "...\n",
        "\n",
        "### Análise Exploratória Inicial\n",
        "\n",
        "* *Qual o tamanho do seu DataFrame*\n",
        "    * `df.shape`\n",
        "* *Extrair e imprimir os nomes das colunas*\n",
        "    * `df.columns`\n",
        "* *Quais os tipos das variáveis*\n",
        "    * `df.dtypes`\n",
        "* *Identifique a porcentagem de valores ausentes das colunas*\n",
        "    * `df.isnull().sum() / df.shape[0]` ou\n",
        "    * `(df.isnull().sum() / df.shape[0]).sort_values(ascending=False)` *para ordem decrescente.*\n",
        "* *Transforme a coluna `date` no formato `datetime`*\n",
        "    * `df.date = pd.to_datetime(df.date)`\n",
        "* *Ver para a data mais atual, quais os países que têm mais casos e mortes. Veja o exemplo:*\n",
        "    * `df.loc[df.date == '2020-06-14'].sort_values(by=\"total_cases\", ascending=False)`\n",
        "    * `df.loc[df.date == '2020-06-14'].sort_values(by=\"total_deaths\", ascending=False)`\n",
        "* Plotar um gráfico de barras para os 5 países com mais mortes\n",
        "    * `df.loc[df.date == '2020-06-14', ['location', 'total_deaths']].sort_values(by=\"total_deaths\", ascending=False)[1:6]`\n",
        "    * `ax.bar('location', 'total_deaths', data=top5_total_deaths)`\n",
        "* Plotar um gráfico de linhas para ver a evolução do total de casos de COVID-19 no mundo.\n",
        "    * `df.loc[df.location == \"World\", \"total_deaths\"].reset_index(drop=True).plot()`\n",
        "* [OPCIONAL] Plotar um gráfico de dispersão considerando `gdp_per_capita` (ou seja, o PIB dos países) pelo número total de mortos. Pegue a data mais recente apenas.\n",
        "    * Lembre-se que não é nada conclusivo, pois envolve fatores como proporcão de testes, etc.\n"
      ]
    },
    {
      "cell_type": "markdown",
      "metadata": {
        "id": "__TfiNtiPPA6",
        "colab_type": "text"
      },
      "source": [
        "Vamos......"
      ]
    },
    {
      "cell_type": "code",
      "metadata": {
        "id": "gO1fv3D1PS4k",
        "colab_type": "code",
        "colab": {}
      },
      "source": [
        ""
      ],
      "execution_count": null,
      "outputs": []
    },
    {
      "cell_type": "markdown",
      "metadata": {
        "id": "SViA5VZ7DYLA",
        "colab_type": "text"
      },
      "source": [
        "### Análise Exploratória para o Brasil\n",
        "\n",
        "* Criar uma cópia do DataFrame apenas com o Brasil\n",
        "    * `df_brasil = df.loc[df.location == \"Brazil\"].copy()`\n",
        "* Identificar quando foi registrada a primeira morte no Brasil\n",
        "* Identificar quantos dias demorou para registrarmos a primeira morte, considerando o primeiro caso de COVID-19 registrado.\n",
        "* Plotar gráficos de linha em escalas linear e logarítmica para os casos totais e mortes totais."
      ]
    },
    {
      "cell_type": "code",
      "metadata": {
        "id": "UDQA502_hAwI",
        "colab_type": "code",
        "colab": {}
      },
      "source": [
        ""
      ],
      "execution_count": null,
      "outputs": []
    },
    {
      "cell_type": "markdown",
      "metadata": {
        "id": "LCsiXvM3BcsO",
        "colab_type": "text"
      },
      "source": [
        "## Conclusão\n",
        "\n",
        "Uma sugestão é que o Ministério da Saúde no Brasil disponibilize os dados referentes a todos os pacientes que são registrados e tratados como COVID-19, inclusive os pacientes que não são testados, já que todos os pacientes suspeitos são devidamente registrados, inclusive por médicos particulares. "
      ]
    }
  ]
}